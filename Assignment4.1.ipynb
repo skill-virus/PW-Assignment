{
 "cells": [
  {
   "cell_type": "code",
   "execution_count": 2,
   "metadata": {},
   "outputs": [],
   "source": [
    "#Q1 Create a vehicle class with an init method having instance variables as name_of_vehicle, max_speed and average_of_vehicle."
   ]
  },
  {
   "cell_type": "code",
   "execution_count": 4,
   "metadata": {},
   "outputs": [
    {
     "name": "stdout",
     "output_type": "stream",
     "text": [
      "Vehicle Name: Toyota Corolla, Max Speed: 180 km/h, Average: 15 km/l\n"
     ]
    }
   ],
   "source": [
    "class Vehicle:\n",
    "    def __init__(self, name_of_vehicle, max_speed, average_of_vehicle):\n",
    "        self.name_of_vehicle = name_of_vehicle\n",
    "        self.max_speed = max_speed\n",
    "        self.average_of_vehicle = average_of_vehicle\n",
    "\n",
    "    def display_info(self):\n",
    "        return f\"Vehicle Name: {self.name_of_vehicle}, Max Speed: {self.max_speed} km/h, Average: {self.average_of_vehicle} km/l\"\n",
    "\n",
    "\n",
    "car = Vehicle(\"Toyota Corolla\", 180, 15)\n",
    "print(car.display_info())\n"
   ]
  },
  {
   "cell_type": "code",
   "execution_count": 5,
   "metadata": {},
   "outputs": [],
   "source": [
    "#Q2.Create a child class car from the vehicle class created in Que 1, which will inherit the vehicle class.\n",
    "# Create a method named seating_capacity which takes capacity as an argument and returns the name of\n",
    "# the vehicle and its seating capacity."
   ]
  },
  {
   "cell_type": "code",
   "execution_count": 8,
   "metadata": {},
   "outputs": [
    {
     "name": "stdout",
     "output_type": "stream",
     "text": [
      "Toyota Corolla has a seating capacity of 5 passengers.\n"
     ]
    }
   ],
   "source": [
    "class Car(Vehicle):\n",
    "    def seating_capacity(self, capacity):\n",
    "        return f\"{self.name_of_vehicle} has a seating capacity of {capacity} passengers.\"\n",
    "\n",
    "# Example usage\n",
    "car = Car(\"Toyota Corolla\", 180, 15)\n",
    "print(car.seating_capacity(5))\n"
   ]
  },
  {
   "cell_type": "code",
   "execution_count": 9,
   "metadata": {},
   "outputs": [],
   "source": [
    "#Q3.What is multiple inheritance? Write a python code to demonstrate multiple inheritance."
   ]
  },
  {
   "cell_type": "code",
   "execution_count": 10,
   "metadata": {},
   "outputs": [
    {
     "data": {
      "text/plain": [
       "'Multiple inheritance is a feature in python where a class can inherit attributes and methods from more than one parent class.\\nThis allows the child class to have access to all properties and behaviors of multiple parent classes'"
      ]
     },
     "execution_count": 10,
     "metadata": {},
     "output_type": "execute_result"
    }
   ],
   "source": [
    "'''Multiple inheritance is a feature in python where a class can inherit attributes and methods from more than one parent class.\n",
    "This allows the child class to have access to all properties and behaviors of multiple parent classes'''"
   ]
  },
  {
   "cell_type": "code",
   "execution_count": 11,
   "metadata": {},
   "outputs": [
    {
     "name": "stdout",
     "output_type": "stream",
     "text": [
      "This is a car.\n",
      "This vehicle has a petrol engine.\n",
      "This vehicle has 4 wheels.\n"
     ]
    }
   ],
   "source": [
    "# Parent Class 1\n",
    "class Engine:\n",
    "    def engine_type(self):\n",
    "        return \"This vehicle has a petrol engine.\"\n",
    "# Parent Class 2\n",
    "class Wheels:\n",
    "    def wheel_count(self):\n",
    "        return \"This vehicle has 4 wheels.\"\n",
    "#Child Class inheriting from both Engine and Wheels\n",
    "class Car(Engine,Wheels):\n",
    "    def car_info(self):\n",
    "        return \"This is a car.\"\n",
    "\n",
    "#Creating an instance of Car\n",
    "my_car =Car()\n",
    "\n",
    "#Accessing methods from both parent classes\n",
    "print(my_car.car_info())#output: This is a car.\n",
    "print(my_car.engine_type())#output: This vehicle has a petrol engine.\n",
    "print(my_car.wheel_count())#Output: This vehicle has 4 wheels."
   ]
  },
  {
   "cell_type": "code",
   "execution_count": 12,
   "metadata": {},
   "outputs": [],
   "source": [
    "# Q4.What are getter and setter in python? Create a class and create a getter and a setter method in this class."
   ]
  },
  {
   "cell_type": "code",
   "execution_count": 13,
   "metadata": {},
   "outputs": [
    {
     "data": {
      "text/plain": [
       "'Getter and Setter is used to access and modify private attributes (__attribute) of a class\\nThese methods help enforse encapsulation and ensure controlled access to class variables.'"
      ]
     },
     "execution_count": 13,
     "metadata": {},
     "output_type": "execute_result"
    }
   ],
   "source": [
    "\"\"\"Getter and Setter is used to access and modify private attributes (__attribute) of a class\n",
    "These methods help enforse encapsulation and ensure controlled access to class variables.\"\"\""
   ]
  },
  {
   "cell_type": "code",
   "execution_count": 15,
   "metadata": {},
   "outputs": [
    {
     "name": "stdout",
     "output_type": "stream",
     "text": [
      "Vehicle Name: Toyota Corolla\n",
      "Max Speed: 180\n",
      "Updated Vehicle Name: Honda Civic\n",
      "Updated Max Speed: 200\n",
      "Invalid name! Name must be a non-empty string.\n"
     ]
    }
   ],
   "source": [
    "class Vehicle:\n",
    "    def __init__(self, name, max_speed):\n",
    "        self.__name = name          # Private attribute\n",
    "        self.__max_speed = max_speed  # Private attribute\n",
    "\n",
    "    # Getter method for name\n",
    "    def get_name(self):\n",
    "        return self.__name\n",
    "\n",
    "    # Setter method for name\n",
    "    def set_name(self, new_name):\n",
    "        if isinstance(new_name, str) and len(new_name) > 0:\n",
    "            self.__name = new_name\n",
    "        else:\n",
    "            print(\"Invalid name! Name must be a non-empty string.\")\n",
    "\n",
    "    # Getter method for max_speed\n",
    "    def get_max_speed(self):\n",
    "        return self.__max_speed\n",
    "\n",
    "    # Setter method for max_speed\n",
    "    def set_max_speed(self, speed):\n",
    "        if speed > 0:\n",
    "            self.__max_speed = speed\n",
    "        else:\n",
    "            print(\"Speed must be a positive number.\")\n",
    "\n",
    "# Example Usage\n",
    "car = Vehicle(\"Toyota Corolla\", 180)\n",
    "\n",
    "# Accessing values using getters\n",
    "print(\"Vehicle Name:\", car.get_name())  \n",
    "print(\"Max Speed:\", car.get_max_speed())  \n",
    "\n",
    "# Modifying values using setters\n",
    "car.set_name(\"Honda Civic\")\n",
    "car.set_max_speed(200)\n",
    "\n",
    "print(\"Updated Vehicle Name:\", car.get_name())  \n",
    "print(\"Updated Max Speed:\", car.get_max_speed())  \n",
    "\n",
    "# Trying to set an invalid name\n",
    "car.set_name(\"\")\n"
   ]
  },
  {
   "cell_type": "code",
   "execution_count": 16,
   "metadata": {},
   "outputs": [],
   "source": [
    "#Q5What is method overriding in python? Write a python code to demonstrate method overriding."
   ]
  },
  {
   "cell_type": "code",
   "execution_count": 17,
   "metadata": {},
   "outputs": [
    {
     "data": {
      "text/plain": [
       "\"Ans->Method overriding occurs when a child class provides a specific implementation of a method that is already defined in its parent class.\\nThe Overridden method in the child class replaces the parent class's method when called on an instance of the child.\""
      ]
     },
     "execution_count": 17,
     "metadata": {},
     "output_type": "execute_result"
    }
   ],
   "source": [
    "\"\"\"Ans->Method overriding occurs when a child class provides a specific implementation of a method that is already defined in its parent class.\n",
    "The Overridden method in the child class replaces the parent class's method when called on an instance of the child.\"\"\""
   ]
  },
  {
   "cell_type": "code",
   "execution_count": 18,
   "metadata": {},
   "outputs": [
    {
     "name": "stdout",
     "output_type": "stream",
     "text": [
      "This is a general vehicle.\n",
      "This is a car.It has 4 wheels and runs on fuel.\n"
     ]
    }
   ],
   "source": [
    "class Vehicle:\n",
    "    def show_info(self):\n",
    "        return \"This is a general vehicle.\"\n",
    "class Car(Vehicle):\n",
    "    def show_info(self):# Overriding the parent method\n",
    "        return \"This is a car.It has 4 wheels and runs on fuel.\"\n",
    "#Creating objects\n",
    "vehicle = Vehicle()\n",
    "car = Car()\n",
    "#Calling the show_info method on both objects\n",
    "print(vehicle.show_info()) #Output : This is a general Vehicle.\n",
    "print(car.show_info()) #Output : This is a car. It has 4 wheels and runs on fuel."
   ]
  }
 ],
 "metadata": {
  "kernelspec": {
   "display_name": "Python 3",
   "language": "python",
   "name": "python3"
  },
  "language_info": {
   "codemirror_mode": {
    "name": "ipython",
    "version": 3
   },
   "file_extension": ".py",
   "mimetype": "text/x-python",
   "name": "python",
   "nbconvert_exporter": "python",
   "pygments_lexer": "ipython3",
   "version": "3.12.9"
  }
 },
 "nbformat": 4,
 "nbformat_minor": 2
}
