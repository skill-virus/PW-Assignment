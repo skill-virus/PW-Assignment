{
 "cells": [
  {
   "cell_type": "code",
   "execution_count": 1,
   "metadata": {},
   "outputs": [],
   "source": [
    "#Q1. What is Abstraction in OOps? Explain with an example."
   ]
  },
  {
   "cell_type": "code",
   "execution_count": 2,
   "metadata": {},
   "outputs": [
    {
     "data": {
      "text/plain": [
       "'\"\\nAbstraction is one of thr dour pillars of Object-Oriented Programming.\\nIt is the process of hiding the internal implementation details of a class and only exposing the essential functionalities to the user.\\na)It helps in reducing complexity and improving code maintainnability.\\nb)Users can interact with the object without knowing how it works internally.\\nc)Achieved in Python using abstract classes and abstact methods (Via the ABC module)\\n\\nExample of Abstraction in python \\nThe user only needs to know that they can deposit,withdraw,and check balance.\\nThe Internal calculations and database interactions are hidden.\\n'"
      ]
     },
     "execution_count": 2,
     "metadata": {},
     "output_type": "execute_result"
    }
   ],
   "source": [
    "\"\"\"\"\n",
    "Abstraction is one of thr dour pillars of Object-Oriented Programming.\n",
    "It is the process of hiding the internal implementation details of a class and only exposing the essential functionalities to the user.\n",
    "a)It helps in reducing complexity and improving code maintainnability.\n",
    "b)Users can interact with the object without knowing how it works internally.\n",
    "c)Achieved in Python using abstract classes and abstact methods (Via the ABC module)\n",
    "\n",
    "Example of Abstraction in python \n",
    "The user only needs to know that they can deposit,withdraw,and check balance.\n",
    "The Internal calculations and database interactions are hidden.\n",
    "\"\"\""
   ]
  },
  {
   "cell_type": "code",
   "execution_count": 4,
   "metadata": {},
   "outputs": [
    {
     "name": "stdout",
     "output_type": "stream",
     "text": [
      "Deposited $500.Current balance: $1500\n",
      "withdrawn $300.Current balance: $1200\n",
      "Insufficient balance!\n"
     ]
    }
   ],
   "source": [
    "from abc import ABC , abstractmethod\n",
    "#Abstraction class\n",
    "class bankaccount(ABC):\n",
    "    def __init__(self,balance):\n",
    "        self.balance = balance #Encapsulated Variable\n",
    "    @abstractmethod\n",
    "    def deposite(self,amount):\n",
    "        pass\n",
    "    @abstractmethod\n",
    "    def withdraw(self,amount):\n",
    "        pass\n",
    "    def get_balance(self):\n",
    "        return f\"Current balance: ${self.balance}\"\n",
    "#Concrete Class (Implement of Abstract Class)\n",
    "class savingsaccount(bankaccount):\n",
    "    def deposite(self,amount):\n",
    "        self.balance += amount\n",
    "        print(f\"Deposited ${amount}.{self.get_balance()}\")\n",
    "    def withdraw(self, amount):\n",
    "        if amount <= self.balance:\n",
    "            self.balance -= amount\n",
    "            print(f\"withdrawn ${amount}.{self.get_balance()}\")\n",
    "        else:\n",
    "            print(\"Insufficient balance!\")\n",
    "\n",
    "#Creating an object of SavingsAccount\n",
    "account = savingsaccount(1000)\n",
    "account.deposite(500)#Deposited $500\n",
    "account.withdraw(300)#Withdrawn $300\n",
    "account.withdraw(1500)#Insufficient Balance!\n"
   ]
  },
  {
   "cell_type": "code",
   "execution_count": 5,
   "metadata": {},
   "outputs": [],
   "source": [
    "#Q2. Differentiate between Abstraction and Encapsulation. Explain with an example."
   ]
  },
  {
   "cell_type": "code",
   "execution_count": 6,
   "metadata": {},
   "outputs": [
    {
     "data": {
      "text/plain": [
       "'\"\\nAbstraction \\nHides implementation details and only shows essential functionalities.\\nFocuses on what an object does,not how it does it .\\nAchieved Using abstact classes and method (ABC module in python).\\nUsed for designing blueprints(like interfaces)where implementtation is defined in clild classes.\\nATM Machine (User interacts with the interface but does not know the internal working).\\n'"
      ]
     },
     "execution_count": 6,
     "metadata": {},
     "output_type": "execute_result"
    }
   ],
   "source": [
    "\"\"\"\"\n",
    "Abstraction \n",
    "Hides implementation details and only shows essential functionalities.\n",
    "Focuses on what an object does,not how it does it .\n",
    "Achieved Using abstact classes and method (ABC module in python).\n",
    "Used for designing blueprints(like interfaces)where implementtation is defined in clild classes.\n",
    "ATM Machine (User interacts with the interface but does not know the internal working).\n",
    "\"\"\""
   ]
  },
  {
   "cell_type": "code",
   "execution_count": 7,
   "metadata": {},
   "outputs": [
    {
     "name": "stdout",
     "output_type": "stream",
     "text": [
      "Car is starting with a key.\n"
     ]
    }
   ],
   "source": [
    "from abc import ABC,abstractmethod \n",
    "#Abstract Class\n",
    "class vehicle(ABC):\n",
    "    @abstractmethod\n",
    "    def start(self):\n",
    "        pass\n",
    "#Concrete Class\n",
    "class car(vehicle):\n",
    "    def start(self):\n",
    "        print(\"Car is starting with a key.\")\n",
    "#creating an object\n",
    "my_car = car()\n",
    "my_car.start()#Output:Car is starting with a key."
   ]
  },
  {
   "cell_type": "code",
   "execution_count": 8,
   "metadata": {},
   "outputs": [
    {
     "data": {
      "text/plain": [
       "'\\nBinds data (attributes) and methods into a single unit(class) to restrict direct access.\\nFocuses on how data is hidden and protected from unintended modification.\\nAchieved using access modifiers (private ,protected,public).\\nUsed for data hiding and ensuring controlled access to variables.\\nA Bank Account(User cannot directly modify balance ; only through deposit/ withdraw methods)\\n'"
      ]
     },
     "execution_count": 8,
     "metadata": {},
     "output_type": "execute_result"
    }
   ],
   "source": [
    "\"\"\"\n",
    "Binds data (attributes) and methods into a single unit(class) to restrict direct access.\n",
    "Focuses on how data is hidden and protected from unintended modification.\n",
    "Achieved using access modifiers (private ,protected,public).\n",
    "Used for data hiding and ensuring controlled access to variables.\n",
    "A Bank Account(User cannot directly modify balance ; only through deposit/ withdraw methods)\n",
    "\"\"\""
   ]
  },
  {
   "cell_type": "code",
   "execution_count": 10,
   "metadata": {},
   "outputs": [
    {
     "name": "stdout",
     "output_type": "stream",
     "text": [
      "Deposited $500. New balance: $1500\n",
      "Withdrawn $200. Remaining balance: $1300\n",
      "Current Balance: 1300\n"
     ]
    }
   ],
   "source": [
    "class BankAccount:\n",
    "    def __init__(self, balance):\n",
    "        self.__balance = balance  # Private variable\n",
    "\n",
    "    def deposit(self, amount):\n",
    "        self.__balance += amount\n",
    "        print(f\"Deposited ${amount}. New balance: ${self.__balance}\")\n",
    "\n",
    "    def withdraw(self, amount):\n",
    "        if amount <= self.__balance:\n",
    "            self.__balance -= amount\n",
    "            print(f\"Withdrawn ${amount}. Remaining balance: ${self.__balance}\")\n",
    "        else:\n",
    "            print(\"Insufficient funds!\")\n",
    "\n",
    "    def get_balance(self):  # Getter method\n",
    "        return self.__balance\n",
    "\n",
    "# Creating an object\n",
    "account = BankAccount(1000)\n",
    "account.deposit(500)\n",
    "account.withdraw(200)\n",
    "\n",
    "# Trying to access private variable directly (will cause an error)\n",
    "# print(account.__balance)  # AttributeError\n",
    "\n",
    "# Accessing balance using the method\n",
    "print(\"Current Balance:\", account.get_balance())\n"
   ]
  },
  {
   "cell_type": "code",
   "execution_count": 11,
   "metadata": {},
   "outputs": [],
   "source": [
    "#Q3. What is abc module in python? Why is it used?"
   ]
  },
  {
   "cell_type": "code",
   "execution_count": 13,
   "metadata": {},
   "outputs": [
    {
     "data": {
      "text/plain": [
       "'\\nThe abc (Abstract Base Class) module in python is used to define abstract classes and abstract methods.\\nIt is part of the abc module,which allows developers to create classes that cannot be instantiated directly but serve as a blueprint for other classes.\\nReason---\\nEnsures that subclasses implement specific methods.\\nHelps in designing interfaces or base classes with a common structure.\\nEncourages the use of structured and organized code.\\nUse---\\nUsed as a base class for abstract classes.\\n@abstractmethod --> A decorator that marks methods as abstract, meaning they must be implemented in subclasses.\\nExample---abcModule'"
      ]
     },
     "execution_count": 13,
     "metadata": {},
     "output_type": "execute_result"
    }
   ],
   "source": [
    "'''\n",
    "The abc (Abstract Base Class) module in python is used to define abstract classes and abstract methods.\n",
    "It is part of the abc module,which allows developers to create classes that cannot be instantiated directly but serve as a blueprint for other classes.\n",
    "Reason---\n",
    "Ensures that subclasses implement specific methods.\n",
    "Helps in designing interfaces or base classes with a common structure.\n",
    "Encourages the use of structured and organized code.\n",
    "Use---\n",
    "Used as a base class for abstract classes.\n",
    "@abstractmethod --> A decorator that marks methods as abstract, meaning they must be implemented in subclasses.\n",
    "Example---abcModule'''"
   ]
  },
  {
   "cell_type": "code",
   "execution_count": 14,
   "metadata": {},
   "outputs": [
    {
     "name": "stdout",
     "output_type": "stream",
     "text": [
      "Car is starting with a key.\n",
      "Bike is starting with a self-start button.\n"
     ]
    }
   ],
   "source": [
    "from abc import ABC ,abstractmethod\n",
    "#Abstract Class\n",
    "class vehicle(ABC):\n",
    "    @abstractmethod\n",
    "    def start(self):\n",
    "        \"\"\"Abstract method,must be implemented in subclasses\"\"\"\n",
    "        pass\n",
    "#Concrete Class (Implements the abstract method)\n",
    "class car(vehicle):\n",
    "    def start(self):\n",
    "        print(\"Car is starting with a key.\")\n",
    "class bike(vehicle):\n",
    "    def start(self):\n",
    "        print(\"Bike is starting with a self-start button.\")\n",
    "#Creating objects\n",
    "car = car()\n",
    "car.start()# output :Car is starting with a key.\n",
    "bike = bike()\n",
    "bike.start()#Output:Bike is Starting with a self-start button.\n",
    "#Trying to instantiate an abstract class directly (Will raise an error)\n",
    "#vehicle = Vehicle()#TypeError:Can't instantiate abstract class Vehicle"
   ]
  },
  {
   "cell_type": "code",
   "execution_count": 15,
   "metadata": {},
   "outputs": [],
   "source": [
    "#Q4. How can we achieve data abstraction?"
   ]
  },
  {
   "cell_type": "code",
   "execution_count": 16,
   "metadata": {},
   "outputs": [
    {
     "data": {
      "text/plain": [
       "'\\nData Abstraction is achieved by hiding implementation details and \\nexposing only the necessary information to the user.In Python, We achieve abstraction using;\\n1.Abstraction classess\\n2.Encapsulation (Private and Protected Variables)\\n3.Interfaces (Abstract Base Classes)'"
      ]
     },
     "execution_count": 16,
     "metadata": {},
     "output_type": "execute_result"
    }
   ],
   "source": [
    "'''\n",
    "Data Abstraction is achieved by hiding implementation details and \n",
    "exposing only the necessary information to the user.In Python, We achieve abstraction using;\n",
    "1.Abstraction classess\n",
    "2.Encapsulation (Private and Protected Variables)\n",
    "3.Interfaces (Abstract Base Classes)'''"
   ]
  },
  {
   "cell_type": "code",
   "execution_count": 18,
   "metadata": {},
   "outputs": [
    {
     "name": "stdout",
     "output_type": "stream",
     "text": [
      "Deposited $500. Current balance: $1500\n",
      "Withdrawn $300. Current balance: $1200\n"
     ]
    }
   ],
   "source": [
    "from abc import ABC, abstractmethod\n",
    "\n",
    "# Abstract Class\n",
    "class BankAccount(ABC):\n",
    "    def __init__(self, balance):\n",
    "        self.balance = balance  # Encapsulated variable\n",
    "\n",
    "    @abstractmethod\n",
    "    def deposit(self, amount):\n",
    "        pass\n",
    "\n",
    "    @abstractmethod\n",
    "    def withdraw(self, amount):\n",
    "        pass\n",
    "\n",
    "    def get_balance(self):\n",
    "        return f\"Current balance: ${self.balance}\"\n",
    "\n",
    "# Concrete Class (Implementation of Abstract Class)\n",
    "class SavingsAccount(BankAccount):\n",
    "    def deposit(self, amount):\n",
    "        self.balance += amount\n",
    "        print(f\"Deposited ${amount}. {self.get_balance()}\")\n",
    "\n",
    "    def withdraw(self, amount):\n",
    "        if amount <= self.balance:\n",
    "            self.balance -= amount\n",
    "            print(f\"Withdrawn ${amount}. {self.get_balance()}\")\n",
    "        else:\n",
    "            print(\"Insufficient balance!\")\n",
    "\n",
    "# Creating an object of SavingsAccount\n",
    "account = SavingsAccount(1000)\n",
    "account.deposit(500)   # Deposited $500\n",
    "account.withdraw(300)  # Withdrawn $300\n"
   ]
  },
  {
   "cell_type": "code",
   "execution_count": 19,
   "metadata": {},
   "outputs": [
    {
     "name": "stdout",
     "output_type": "stream",
     "text": [
      "Deposited $500. New balance: $1500\n",
      "Withdrawn $200. Remaining balance: $1300\n",
      "Current Balance: 1300\n"
     ]
    }
   ],
   "source": [
    "class BankAccount:\n",
    "    def __init__(self, balance):\n",
    "        self.__balance = balance  # Private variable\n",
    "\n",
    "    def deposit(self, amount):\n",
    "        self.__balance += amount\n",
    "        print(f\"Deposited ${amount}. New balance: ${self.__balance}\")\n",
    "\n",
    "    def withdraw(self, amount):\n",
    "        if amount <= self.__balance:\n",
    "            self.__balance -= amount\n",
    "            print(f\"Withdrawn ${amount}. Remaining balance: ${self.__balance}\")\n",
    "        else:\n",
    "            print(\"Insufficient funds!\")\n",
    "\n",
    "    def get_balance(self):  # Getter method\n",
    "        return self.__balance\n",
    "\n",
    "# Creating an object\n",
    "account = BankAccount(1000)\n",
    "account.deposit(500)\n",
    "account.withdraw(200)\n",
    "\n",
    "# Trying to access private variable directly (will cause an error)\n",
    "# print(account.__balance)  # AttributeError\n",
    "\n",
    "# Accessing balance using the method\n",
    "print(\"Current Balance:\", account.get_balance())\n"
   ]
  },
  {
   "cell_type": "code",
   "execution_count": 20,
   "metadata": {},
   "outputs": [],
   "source": [
    "#Q5. Can we create an instance of an abstract class? Explain your answer."
   ]
  },
  {
   "cell_type": "code",
   "execution_count": 22,
   "metadata": {},
   "outputs": [
    {
     "data": {
      "text/plain": [
       "'\\nNo , We cannot create an instance of an abstract class in python.\\nsince...\\nAn abstract class is meant to serve as a blueprint for other classes.\\nIt contains abstract methods (methods that are declared but have no implementtation)\\nPython prevents instantiation of abstract classes to enforce the rule that subclasses must implement all abstract methods.'"
      ]
     },
     "execution_count": 22,
     "metadata": {},
     "output_type": "execute_result"
    }
   ],
   "source": [
    "'''\n",
    "No , We cannot create an instance of an abstract class in python.\n",
    "since...\n",
    "An abstract class is meant to serve as a blueprint for other classes.\n",
    "It contains abstract methods (methods that are declared but have no implementtation)\n",
    "Python prevents instantiation of abstract classes to enforce the rule that subclasses must implement all abstract methods.'''"
   ]
  },
  {
   "cell_type": "code",
   "execution_count": 26,
   "metadata": {},
   "outputs": [
    {
     "name": "stdout",
     "output_type": "stream",
     "text": [
      "Bark!\n"
     ]
    }
   ],
   "source": [
    "from abc import ABC, abstractmethod\n",
    "\n",
    "# Abstract class\n",
    "class Animal(ABC):\n",
    "    @abstractmethod\n",
    "    def make_sound(self):\n",
    "        pass  # No implementation\n",
    "\n",
    "# Concrete class (subclass implementing the abstract method)\n",
    "class Dog(Animal):\n",
    "    def make_sound(self):\n",
    "        return \"Bark!\"\n",
    "\n",
    "# Creating an instance of the concrete class\n",
    "dog = Dog()\n",
    "print(dog.make_sound())  # Output: Bark!\n"
   ]
  },
  {
   "cell_type": "code",
   "execution_count": null,
   "metadata": {},
   "outputs": [],
   "source": []
  }
 ],
 "metadata": {
  "kernelspec": {
   "display_name": "Python 3",
   "language": "python",
   "name": "python3"
  },
  "language_info": {
   "codemirror_mode": {
    "name": "ipython",
    "version": 3
   },
   "file_extension": ".py",
   "mimetype": "text/x-python",
   "name": "python",
   "nbconvert_exporter": "python",
   "pygments_lexer": "ipython3",
   "version": "3.12.9"
  }
 },
 "nbformat": 4,
 "nbformat_minor": 2
}
