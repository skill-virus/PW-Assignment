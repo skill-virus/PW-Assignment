{
 "cells": [
  {
   "cell_type": "code",
   "execution_count": 1,
   "metadata": {},
   "outputs": [],
   "source": [
    "# Q1. Which keyword is used to create a function? Create a function to return a list of odd numbers in the range of 1 to 25."
   ]
  },
  {
   "cell_type": "code",
   "execution_count": 8,
   "metadata": {},
   "outputs": [
    {
     "name": "stdout",
     "output_type": "stream",
     "text": [
      "Odd numbers from 1 to 25: [1, 3, 5, 7, 9, 11, 13, 15, 17, 19, 21, 23, 25]\n"
     ]
    }
   ],
   "source": [
    "def get_odd_numbers():\n",
    "    odd_list = []  \n",
    "    for num in range(1, 26):  \n",
    "        if num % 2 != 0: \n",
    "            odd_list.append(num)  \n",
    "    return odd_list  \n",
    "\n",
    "# Example usage\n",
    "odd_numbers = get_odd_numbers()\n",
    "print(\"Odd numbers from 1 to 25:\", odd_numbers)\n"
   ]
  },
  {
   "cell_type": "code",
   "execution_count": 9,
   "metadata": {},
   "outputs": [],
   "source": [
    "#Q2. Why *args and **kwargs is used in some functions? Create a function each for *args and **kwargs to demonstrate their use."
   ]
  },
  {
   "cell_type": "code",
   "execution_count": 10,
   "metadata": {},
   "outputs": [],
   "source": [
    "#Ans->*args and **kwargs allow us to pass a variable number of arguments to a function:\n",
    "\n",
    "# *args (Non-Keyword Arguments)\n",
    "# Allows a function to accept any number of positional arguments.\n",
    "# The arguments are stored as a tuple inside the function.\n",
    "\n",
    "# **kwargs (Keyword Arguments):\n",
    "# Allows a function to accept any number of keyword arguments (i.e., named arguments).\n",
    "# The arguments are stored as a dictionary inside the function.\n"
   ]
  },
  {
   "cell_type": "code",
   "execution_count": 12,
   "metadata": {},
   "outputs": [
    {
     "name": "stdout",
     "output_type": "stream",
     "text": [
      "Sum using *args: 110\n"
     ]
    }
   ],
   "source": [
    "def sum_numbers(*args):\n",
    "    \"\"\"Function to calculate the sum of any number of arguments\"\"\"\n",
    "    return sum(args)  # Summing all the numbers passed as arguments\n",
    "\n",
    "# Example Usage:\n",
    "result = sum_numbers(15, 20,35, 40)\n",
    "print(\"Sum using *args:\", result)"
   ]
  },
  {
   "cell_type": "code",
   "execution_count": 13,
   "metadata": {},
   "outputs": [
    {
     "name": "stdout",
     "output_type": "stream",
     "text": [
      "name: Abhishek Veram\n",
      "age: 20\n",
      "city: Muzaffarpur\n"
     ]
    }
   ],
   "source": [
    "def display_info(**kwargs):\n",
    "    \"\"\"Function to display key-value pairs passed as keyword arguments\"\"\"\n",
    "    for key, value in kwargs.items():\n",
    "        print(f\"{key}: {value}\")\n",
    "\n",
    "# Example Usage:\n",
    "display_info(name=\"Abhishek Veram\", age=20, city=\"Muzaffarpur\")"
   ]
  },
  {
   "cell_type": "code",
   "execution_count": 1,
   "metadata": {},
   "outputs": [],
   "source": [
    "# Q3. What is an iterator in python? Name the method used to initialise the iterator object and the method\n",
    "# used for iteration. Use these methods to print the first five elements of the given list [2, 4, 6, 8, 10, 12, 14,\n",
    "# 16, 18, 20]."
   ]
  },
  {
   "cell_type": "code",
   "execution_count": 2,
   "metadata": {},
   "outputs": [],
   "source": [
    "# Iterator is an object that contains a countable number of values and acn be iterated upon ,meaning we can traverse through all the values.\n",
    "# It implements the iterator protocol ,which consists of two methods:\n",
    "# a)iter -->Initializes an iterator object and returns it.\n",
    "# b)next -->Returns the next value from the iterator."
   ]
  },
  {
   "cell_type": "code",
   "execution_count": 7,
   "metadata": {},
   "outputs": [
    {
     "name": "stdout",
     "output_type": "stream",
     "text": [
      "2\n",
      "4\n",
      "6\n",
      "8\n",
      "10\n"
     ]
    }
   ],
   "source": [
    "l=[2,4,6,8,10,12,14,16,18,20]\n",
    "iterator = iter(l)# Getting the iterator object\n",
    "\n",
    "print(next(iterator))\n",
    "print(next(iterator))\n",
    "print(next(iterator))\n",
    "print(next(iterator))\n",
    "print(next(iterator))\n",
    "\n"
   ]
  },
  {
   "cell_type": "code",
   "execution_count": 8,
   "metadata": {},
   "outputs": [],
   "source": [
    "#Q4. What is a generator function in python? Why yield keyword is used? Give an example of a generator function."
   ]
  },
  {
   "cell_type": "code",
   "execution_count": 11,
   "metadata": {},
   "outputs": [
    {
     "data": {
      "text/plain": [
       "' Ans--> A generator function in python is a special type of function that returns an iterator and allows for lazy evaluation.\\n Instead of returning values the \"return statement\" ,it uses the yield keyword to produce values one at a time as they are requested.\\nThis makes generators memory efficient,especially when working with large datasets.'"
      ]
     },
     "execution_count": 11,
     "metadata": {},
     "output_type": "execute_result"
    }
   ],
   "source": [
    "\"\"\" Ans--> A generator function in python is a special type of function that returns an iterator and allows for lazy evaluation.\n",
    " Instead of returning values the \"return statement\" ,it uses the yield keyword to produce values one at a time as they are requested.\n",
    "This makes generators memory efficient,especially when working with large datasets.\"\"\"\n"
   ]
  },
  {
   "cell_type": "code",
   "execution_count": 12,
   "metadata": {},
   "outputs": [
    {
     "data": {
      "text/plain": [
       "' Why use yield ?\\nThe yield keyword allows the function to pause its execution ,remember its state ,and resume from where it left off when called again.\\nUnlike return ,which terminates the function ,yield allows the function to produce a series of values over time.\\nSince the function does not store all values in memory at once , generators are more memory-efficient than lists.'"
      ]
     },
     "execution_count": 12,
     "metadata": {},
     "output_type": "execute_result"
    }
   ],
   "source": [
    "\"\"\" Why use yield ?\n",
    "The yield keyword allows the function to pause its execution ,remember its state ,and resume from where it left off when called again.\n",
    "Unlike return ,which terminates the function ,yield allows the function to produce a series of values over time.\n",
    "Since the function does not store all values in memory at once , generators are more memory-efficient than lists.\"\"\"\n"
   ]
  },
  {
   "cell_type": "code",
   "execution_count": 13,
   "metadata": {},
   "outputs": [
    {
     "name": "stdout",
     "output_type": "stream",
     "text": [
      "0\n",
      "2\n",
      "4\n",
      "6\n",
      "8\n",
      "10\n"
     ]
    }
   ],
   "source": [
    "def even_numbers(limit):\n",
    "    '''Generator function to yield even numbers up to a given limit.'''\n",
    "    num = 0\n",
    "    while num <= limit:\n",
    "        yield num\n",
    "        num += 2\n",
    "even_gen = even_numbers(10)\n",
    "\n",
    "for num in even_gen:\n",
    "    print(num)"
   ]
  },
  {
   "cell_type": "code",
   "execution_count": 14,
   "metadata": {},
   "outputs": [],
   "source": [
    "#Q5. Create a generator function for prime numbers less than 1000. Use the next() method to print the first 20 prime numbers."
   ]
  },
  {
   "cell_type": "code",
   "execution_count": 21,
   "metadata": {},
   "outputs": [
    {
     "name": "stdout",
     "output_type": "stream",
     "text": [
      "2\n",
      "3\n",
      "5\n",
      "7\n",
      "11\n",
      "13\n",
      "17\n",
      "19\n",
      "23\n",
      "29\n",
      "31\n",
      "37\n",
      "41\n",
      "43\n",
      "47\n",
      "53\n",
      "59\n",
      "61\n",
      "67\n",
      "71\n"
     ]
    }
   ],
   "source": [
    "def prime_generator():\n",
    "    \"\"\"Generator function to yield prime numbers less than 1000.\"\"\"\n",
    "    num = 2  # Start from the first prime number\n",
    "    while num < 1000:\n",
    "        if all(num % i != 0 for i in range(2, int(num ** 0.5) + 1)):  # Check if prime\n",
    "            yield num\n",
    "        num += 1\n",
    "\n",
    "# Create the generator\n",
    "primes = prime_generator()\n",
    "\n",
    "# Print the first 20 prime numbers using next()\n",
    "for _ in range(20):\n",
    "    print(next(primes))\n"
   ]
  },
  {
   "cell_type": "code",
   "execution_count": 22,
   "metadata": {},
   "outputs": [],
   "source": [
    "#Q6. Write a python program to print the first 10 Fibonacci numbers using a while loop."
   ]
  },
  {
   "cell_type": "code",
   "execution_count": 24,
   "metadata": {},
   "outputs": [
    {
     "name": "stdout",
     "output_type": "stream",
     "text": [
      "First 10 Fibonacci numbers:\n",
      "0\n",
      "1\n",
      "1\n",
      "2\n",
      "3\n",
      "5\n",
      "8\n",
      "13\n",
      "21\n",
      "34\n"
     ]
    }
   ],
   "source": [
    "a,b=0,1\n",
    "count=0\n",
    "n=10\n",
    "print(\"First 10 Fibonacci numbers:\")\n",
    "\n",
    "while count<n:\n",
    "    print(a)#Print the current Fibonacci number\n",
    "    a,b=b,a+b #Update values for the next numbers\n",
    "    count += 1 #Increment the count"
   ]
  },
  {
   "cell_type": "code",
   "execution_count": 25,
   "metadata": {},
   "outputs": [],
   "source": [
    "# Q7. Write a List Comprehension to iterate through the given string: ‘pwskills’.\n",
    "# Expected output: ['p', 'w', 's', 'k', 'i', 'l', 'l', 's']"
   ]
  },
  {
   "cell_type": "code",
   "execution_count": 27,
   "metadata": {},
   "outputs": [
    {
     "name": "stdout",
     "output_type": "stream",
     "text": [
      "['p', 'w', 's', 'k', 'i', 'l', 'l', 's']\n"
     ]
    }
   ],
   "source": [
    "string=\"pwskills\"\n",
    "char_list=list(map(lambda char:char,string))\n",
    "\n",
    "print(char_list)"
   ]
  },
  {
   "cell_type": "code",
   "execution_count": 28,
   "metadata": {},
   "outputs": [],
   "source": [
    "#Q8. Write a python program to check whether a given number is Palindrome or not using a while loop."
   ]
  },
  {
   "cell_type": "code",
   "execution_count": 35,
   "metadata": {},
   "outputs": [
    {
     "name": "stdout",
     "output_type": "stream",
     "text": [
      "121 is a Palindrome (AP)\n"
     ]
    }
   ],
   "source": [
    "def is_palindrome(number):\n",
    "    original = number #Store the original number\n",
    "    reverse = 0 #Variable to store reversed number \n",
    "\n",
    "    while number > 0:\n",
    "        digit=number%10 #Extract the last digit \n",
    "        reverse = reverse*10+digit #Append digit to reversed number\n",
    "        number //= 10 #Remove the last digit\n",
    "    return original == reverse #Check if original and reversed numbers are the same\n",
    "\n",
    "num = int(input(\"Enter a number :\"))\n",
    "\n",
    "if is_palindrome(num):\n",
    "    print(f\"{num} is a Palindrome (AP)\")\n",
    "else:\n",
    "    print(f\"{num} is Not a Palindrome (NAP)\")\n",
    "\n",
    "#Enter a number:121,AP\n",
    "#Enter a number:123, NAP"
   ]
  },
  {
   "cell_type": "code",
   "execution_count": 36,
   "metadata": {},
   "outputs": [],
   "source": [
    "# Q9. Write a code to print odd numbers from 1 to 100 using list comprehension.\n",
    "# Note: Use a list comprehension to create a list from 1 to 100 and use another List comprehension to filter\n",
    "# out odd numbers."
   ]
  },
  {
   "cell_type": "code",
   "execution_count": 38,
   "metadata": {},
   "outputs": [
    {
     "name": "stdout",
     "output_type": "stream",
     "text": [
      "[1, 3, 5, 7, 9, 11, 13, 15, 17, 19, 21, 23, 25, 27, 29, 31, 33, 35, 37, 39, 41, 43, 45, 47, 49, 51, 53, 55, 57, 59, 61, 63, 65, 67, 69, 71, 73, 75, 77, 79, 81, 83, 85, 87, 89, 91, 93, 95, 97, 99]\n"
     ]
    }
   ],
   "source": [
    "numbers = [num for num in range(1,100)]#Generate a list of numbers from 1 to 100\n",
    "odd_numbers = [num for num in numbers if num%2 !=0]\n",
    "print(odd_numbers)"
   ]
  }
 ],
 "metadata": {
  "kernelspec": {
   "display_name": "Python 3",
   "language": "python",
   "name": "python3"
  },
  "language_info": {
   "codemirror_mode": {
    "name": "ipython",
    "version": 3
   },
   "file_extension": ".py",
   "mimetype": "text/x-python",
   "name": "python",
   "nbconvert_exporter": "python",
   "pygments_lexer": "ipython3",
   "version": "3.12.9"
  }
 },
 "nbformat": 4,
 "nbformat_minor": 2
}
