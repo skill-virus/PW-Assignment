{
 "cells": [
  {
   "cell_type": "code",
   "execution_count": 1,
   "metadata": {},
   "outputs": [],
   "source": [
    "#Q1. Explain Class and Object with respect to Object-Oriented Programming. Give a suitable example."
   ]
  },
  {
   "cell_type": "code",
   "execution_count": 2,
   "metadata": {},
   "outputs": [
    {
     "data": {
      "text/plain": [
       "'A class is a blueprint or a templete for creating objects.\\nIt defines attributes(Variables) and behaviors(methods) that an object of that class will have.\\nA class does not hold any actual itself,it provides a structre.\\n\\nAn object is an instance of a class.\\nIt is a concrete entity that has a state (defined by attributes) and behavior (defined by methods).\\nMultiple objects can be created from the same class.'"
      ]
     },
     "execution_count": 2,
     "metadata": {},
     "output_type": "execute_result"
    }
   ],
   "source": [
    "\"\"\"A class is a blueprint or a templete for creating objects.\n",
    "It defines attributes(Variables) and behaviors(methods) that an object of that class will have.\n",
    "A class does not hold any actual itself,it provides a structre.\n",
    "\n",
    "An object is an instance of a class.\n",
    "It is a concrete entity that has a state (defined by attributes) and behavior (defined by methods).\n",
    "Multiple objects can be created from the same class.\"\"\""
   ]
  },
  {
   "cell_type": "code",
   "execution_count": 3,
   "metadata": {},
   "outputs": [
    {
     "name": "stdout",
     "output_type": "stream",
     "text": [
      "car:Toyotacamry,Year:2022\n",
      "car:Hondcivic,Year:2023\n"
     ]
    }
   ],
   "source": [
    "class car:\n",
    "    def __init__(self,brand,model,year):\n",
    "        self.brand = brand\n",
    "        self.model = model\n",
    "        self.year = year\n",
    "    def display_info(self):\n",
    "        print(f\"car:{self.brand}{self.model},Year:{self.year}\")\n",
    "car1 = car(\"Toyota\",\"camry\",2022)\n",
    "car2 = car(\"Hond\",\"civic\",2023)\n",
    "car1.display_info()\n",
    "car2.display_info()"
   ]
  },
  {
   "cell_type": "code",
   "execution_count": 4,
   "metadata": {},
   "outputs": [],
   "source": [
    "#Q2. Name the four pillars of OOPs."
   ]
  },
  {
   "cell_type": "code",
   "execution_count": 5,
   "metadata": {},
   "outputs": [
    {
     "data": {
      "text/plain": [
       "'\"\\n1.Encapsulation\\n2.Abstraction\\n3.Inheritance\\n4.Polymorphism\\n\\n1=Encapsulation is the process of wrapping data (attributes)and methods (functions) together into a single unit(class).\\nIt restricts direct access to some data by using access modifiers (private ,protcted ,public).\\nExample : Using private variables(del.__privateVar)and providing getter/setter methods.\\n\\n2=Abstraction means hiding implementation details and only exposing essential features to the user.\\nIt helps in reducing complexity and increasing reusability.\\nExample : Using abstract classes (Abc module i python) to define a blueprint for subclasses.\\n\\n3=Inheritance allows a class to inherit properties and behaviors from another class.\\nIt promotes code reusability and establishes a parent-child relationship.\\nExample: A car class can be a parent class , and ElectricCar can inherit its properties.\\n\\n4=Polymorphism allows one interface to be used different types of data.\\nIt enables methods to have different behaviors based on the object calling them.\\nExample:Method Overriding (same method with different parameters).'"
      ]
     },
     "execution_count": 5,
     "metadata": {},
     "output_type": "execute_result"
    }
   ],
   "source": [
    "\"\"\"\"\n",
    "1.Encapsulation\n",
    "2.Abstraction\n",
    "3.Inheritance\n",
    "4.Polymorphism\n",
    "\n",
    "1=Encapsulation is the process of wrapping data (attributes)and methods (functions) together into a single unit(class).\n",
    "It restricts direct access to some data by using access modifiers (private ,protcted ,public).\n",
    "Example : Using private variables(del.__privateVar)and providing getter/setter methods.\n",
    "\n",
    "2=Abstraction means hiding implementation details and only exposing essential features to the user.\n",
    "It helps in reducing complexity and increasing reusability.\n",
    "Example : Using abstract classes (Abc module i python) to define a blueprint for subclasses.\n",
    "\n",
    "3=Inheritance allows a class to inherit properties and behaviors from another class.\n",
    "It promotes code reusability and establishes a parent-child relationship.\n",
    "Example: A car class can be a parent class , and ElectricCar can inherit its properties.\n",
    "\n",
    "4=Polymorphism allows one interface to be used different types of data.\n",
    "It enables methods to have different behaviors based on the object calling them.\n",
    "Example:Method Overriding (same method with different parameters).\"\"\""
   ]
  },
  {
   "cell_type": "code",
   "execution_count": 6,
   "metadata": {},
   "outputs": [],
   "source": [
    "#Q3. Explain why the __init__() function is used. Give a suitable example."
   ]
  },
  {
   "cell_type": "code",
   "execution_count": 7,
   "metadata": {},
   "outputs": [
    {
     "data": {
      "text/plain": [
       "'\"\\nThe __init__() method in python is a constructor that is automatically called when a new object of a class is created .\\nIt is used to initialize attributes of the object with default or user-defined values.\\nIt helps in setting up an object\\'s initial state.'"
      ]
     },
     "execution_count": 7,
     "metadata": {},
     "output_type": "execute_result"
    }
   ],
   "source": [
    "\"\"\"\"\n",
    "The __init__() method in python is a constructor that is automatically called when a new object of a class is created .\n",
    "It is used to initialize attributes of the object with default or user-defined values.\n",
    "It helps in setting up an object's initial state.\"\"\""
   ]
  },
  {
   "cell_type": "code",
   "execution_count": 14,
   "metadata": {},
   "outputs": [
    {
     "name": "stdout",
     "output_type": "stream",
     "text": [
      "Hello,my name is Abhishek and I am 20 years old.\n",
      "Hello,my name is Kratika and I am 21 years old.\n"
     ]
    }
   ],
   "source": [
    "class person:\n",
    "    def __init__(self,name,age):\n",
    "        self.name = name\n",
    "        self.age = age\n",
    "    def introduce(self):\n",
    "        print(f\"Hello,my name is {self.name} and I am {self.age} years old.\")\n",
    "person1 = person(\"Abhishek\",20)\n",
    "person2 = person(\"Kratika\",21)\n",
    "\n",
    "person1.introduce()\n",
    "person2.introduce()"
   ]
  },
  {
   "cell_type": "code",
   "execution_count": 15,
   "metadata": {},
   "outputs": [],
   "source": [
    "#Q4. Why self is used in OOPs?"
   ]
  },
  {
   "cell_type": "code",
   "execution_count": 16,
   "metadata": {},
   "outputs": [
    {
     "data": {
      "text/plain": [
       "'\"\\nself is a reference to the current instance of the class.\\nIt allows access to the object\\'s attributes attributes and methods.\\n\\n1.self  represents the specific object calling the method,distinguishing between different instances.\\n2.It enables each object to have its own attributes and behavior.\\n3.While defining instance methods , self must be explicitly passed as the first parameter.\\n'"
      ]
     },
     "execution_count": 16,
     "metadata": {},
     "output_type": "execute_result"
    }
   ],
   "source": [
    "\"\"\"\"\n",
    "self is a reference to the current instance of the class.\n",
    "It allows access to the object's attributes attributes and methods.\n",
    "\n",
    "1.self  represents the specific object calling the method,distinguishing between different instances.\n",
    "2.It enables each object to have its own attributes and behavior.\n",
    "3.While defining instance methods , self must be explicitly passed as the first parameter.\n",
    "\"\"\""
   ]
  },
  {
   "cell_type": "code",
   "execution_count": 17,
   "metadata": {},
   "outputs": [
    {
     "name": "stdout",
     "output_type": "stream",
     "text": [
      "buddy says woof!\n",
      "charlie says woof!\n"
     ]
    }
   ],
   "source": [
    "class dog :\n",
    "    def __init__(self,name,breed):\n",
    "        self.name = name \n",
    "        self.breed = breed \n",
    "    def bark(self):\n",
    "        print(f\"{self.name} says woof!\")\n",
    "dog1 = dog(\"buddy\",\"labrador\")\n",
    "dog2 = dog(\"charlie\",\"beagle\")\n",
    "dog1.bark()\n",
    "dog2.bark()"
   ]
  },
  {
   "cell_type": "code",
   "execution_count": 18,
   "metadata": {},
   "outputs": [],
   "source": [
    "#Q5. What is inheritance? Give an example for each type of inheritance."
   ]
  },
  {
   "cell_type": "code",
   "execution_count": 20,
   "metadata": {},
   "outputs": [
    {
     "data": {
      "text/plain": [
       "'\"\\nInheritance is a mechanism in Object-Oriented Programming (oop) that allows \\na class (clild class) to acquire properties and behaviors from another class(parent class).\\nIt helps in code reusability and establishing a hierachical relationship between classes.\\n\\n1.Single Inheritance-One Parent,One Child.\\n2.Multiple Inheritance- One child ,Multiple Parents\\n3.Multilevel Inheritance - Inheritance in a chain\\n4.Hierarchical Inheritance - Multiple child classes from one parent.\\n5.Hybrid Inheritance -A mix of different types.\\n\\n'"
      ]
     },
     "execution_count": 20,
     "metadata": {},
     "output_type": "execute_result"
    }
   ],
   "source": [
    "\"\"\"\"\n",
    "Inheritance is a mechanism in Object-Oriented Programming (oop) that allows \n",
    "a class (clild class) to acquire properties and behaviors from another class(parent class).\n",
    "It helps in code reusability and establishing a hierachical relationship between classes.\n",
    "\n",
    "1.Single Inheritance-One Parent,One Child.\n",
    "2.Multiple Inheritance- One child ,Multiple Parents\n",
    "3.Multilevel Inheritance - Inheritance in a chain\n",
    "4.Hierarchical Inheritance - Multiple child classes from one parent.\n",
    "5.Hybrid Inheritance -A mix of different types.\n",
    "\n",
    "\"\"\" "
   ]
  },
  {
   "cell_type": "code",
   "execution_count": 23,
   "metadata": {},
   "outputs": [
    {
     "name": "stdout",
     "output_type": "stream",
     "text": [
      "This animal makes a sound.\n",
      "Dog barks!\n"
     ]
    }
   ],
   "source": [
    "#1.Single Inheritance\n",
    "\n",
    "#Parent class\n",
    "class animal:\n",
    "    def speak(self):\n",
    "        print(\"This animal makes a sound.\")\n",
    "#Child class\n",
    "class dog(animal):\n",
    "    def bark(self):\n",
    "        print(\"Dog barks!\")\n",
    "dog = dog() #Creating an object\n",
    "dog.speak() #Inherited from Animal class\n",
    "dog.bark()  #Define in Dog Class"
   ]
  },
  {
   "cell_type": "code",
   "execution_count": 24,
   "metadata": {},
   "outputs": [
    {
     "name": "stdout",
     "output_type": "stream",
     "text": [
      "father's Traits\n",
      "Mother's Traits\n",
      "Child's Traits\n"
     ]
    }
   ],
   "source": [
    "#2.Multiple Inheritance\n",
    "#Parent class 1\n",
    "class father:\n",
    "    def show_father(self):\n",
    "        print(\"father's Traits\")\n",
    "#Parent Class 2\n",
    "class mother:\n",
    "    def show_mother(self):\n",
    "        print(\"Mother's Traits\")\n",
    "#Child class inherits from both parents \n",
    "class child(father,mother):\n",
    "    def show_child(self):\n",
    "        print(\"Child's Traits\")\n",
    "#Creating an Object\n",
    "child = child()\n",
    "child.show_father()\n",
    "child.show_mother()\n",
    "child.show_child()"
   ]
  },
  {
   "cell_type": "code",
   "execution_count": 25,
   "metadata": {},
   "outputs": [
    {
     "name": "stdout",
     "output_type": "stream",
     "text": [
      "Grandparent's Traits\n",
      "Parent's Traits\n",
      "child'Traits\n"
     ]
    }
   ],
   "source": [
    "#Multilevel Inheritance \n",
    "#Grandparent class\n",
    "class grandparent:\n",
    "    def grandparent_info(self):\n",
    "        print(\"Grandparent's Traits\")\n",
    "#Parent class inherits from Grandparent\n",
    "class parent(grandparent):\n",
    "    def parent_info(self):\n",
    "        print(\"Parent's Traits\")\n",
    "#Child class inherits from parent\n",
    "class child(parent):\n",
    "    def child_info(self):\n",
    "        print(\"child'Traits\")\n",
    "child = child()\n",
    "child.grandparent_info()\n",
    "child.parent_info()\n",
    "child.child_info()\n"
   ]
  },
  {
   "cell_type": "code",
   "execution_count": 27,
   "metadata": {},
   "outputs": [
    {
     "name": "stdout",
     "output_type": "stream",
     "text": [
      "Fuel is required to run.\n",
      "Car has 4 wheels.\n",
      "Fuel is required to run.\n",
      "Bike has 2 wheels.\n"
     ]
    }
   ],
   "source": [
    "# 4.Hierarchical Inheritance \n",
    "#Parent class\n",
    "class vehicle:\n",
    "    def fuel(self):\n",
    "        print(\"Fuel is required to run.\")\n",
    "#Child classes \n",
    "class car(vehicle):\n",
    "    def wheels(self):\n",
    "        print(\"Car has 4 wheels.\")\n",
    "class bike(vehicle):\n",
    "    def wheels(self):\n",
    "        print(\"Bike has 2 wheels.\")\n",
    "#Creating objects\n",
    "car = car()\n",
    "bike = bike()\n",
    "\n",
    "car.fuel()\n",
    "car.wheels()\n",
    "\n",
    "bike.fuel()\n",
    "bike.wheels()"
   ]
  },
  {
   "cell_type": "code",
   "execution_count": 31,
   "metadata": {},
   "outputs": [
    {
     "name": "stdout",
     "output_type": "stream",
     "text": [
      "Class A Method\n",
      "Class B Method\n",
      "Class C Method\n",
      "Class D Method\n"
     ]
    }
   ],
   "source": [
    "#Hybrid Inheritance \n",
    "#Base Class \n",
    "class A:\n",
    "    def method_A(self):\n",
    "        print(\"Class A Method\")\n",
    "#Intermediate Class (Single Inheritance)\n",
    "class B(A):\n",
    "    def method_B(self):\n",
    "        print(\"Class B Method\")\n",
    "#Another Parent Class \n",
    "class C:\n",
    "    def method_C(self):\n",
    "        print(\"Class C Method\")\n",
    "#child class (Multiple Inheritance)\n",
    "class D(B,C):\n",
    "    def method_D(self):\n",
    "        print(\"Class D Method\")\n",
    "#Creating object\n",
    "obj = D()\n",
    "obj.method_A() # Inherited from A \n",
    "obj.method_B() # Inherited From B\n",
    "obj.method_C() #Inherited from c\n",
    "obj.method_D() #Defined in D"
   ]
  },
  {
   "cell_type": "code",
   "execution_count": null,
   "metadata": {},
   "outputs": [],
   "source": []
  }
 ],
 "metadata": {
  "kernelspec": {
   "display_name": "Python 3",
   "language": "python",
   "name": "python3"
  },
  "language_info": {
   "codemirror_mode": {
    "name": "ipython",
    "version": 3
   },
   "file_extension": ".py",
   "mimetype": "text/x-python",
   "name": "python",
   "nbconvert_exporter": "python",
   "pygments_lexer": "ipython3",
   "version": "3.12.9"
  }
 },
 "nbformat": 4,
 "nbformat_minor": 2
}
